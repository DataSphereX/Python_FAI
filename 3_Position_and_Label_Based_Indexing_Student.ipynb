{
 "cells": [
  {
   "cell_type": "markdown",
   "metadata": {},
   "source": [
    "# Position and Label Based Indexing: ```df.iloc``` and ```df.loc```\n",
    "\n",
    "You have seen some ways of selecting rows and columns from dataframes. Let's now see some other ways of indexing dataframes, which pandas recommends, since they are more explicit (and less ambiguous).\n",
    "\n",
    "There are two main ways of indexing dataframes:\n",
    "1. Position based indexing using ```df.iloc```\n",
    "2. Label based indexing using ```df.loc```\n",
    "\n",
    "Using both the methods, we will do the following indexing operations on a dataframe:\n",
    "* Selecting single elements/cells\n",
    "* Selecting single and multiple rows\n",
    "* Selecting single and multiple columns\n",
    "* Selecting multiple rows and columns"
   ]
  },
  {
   "cell_type": "code",
   "execution_count": null,
   "metadata": {},
   "outputs": [],
   "source": [
    "# loading libraries and reading the data\n"
   ]
  },
  {
   "cell_type": "markdown",
   "metadata": {},
   "source": [
    "### Position (Integer) Based Indexing\n",
    "\n",
    "Pandas provides the ```df.iloc``` functionality to index dataframes **using integer indices**. \n"
   ]
  },
  {
   "cell_type": "code",
   "execution_count": null,
   "metadata": {},
   "outputs": [],
   "source": []
  },
  {
   "cell_type": "markdown",
   "metadata": {},
   "source": [
    "As mentioned in the documentation, the inputs x, y to ```df.iloc[x, y]``` can be:\n",
    "* An integer, e.g. ```3```\n",
    "* A list or array of integers, e.g. ```[3, 7, 8]```\n",
    "* An integer range, i.e. ```3:8```\n",
    "* A boolean array\n",
    "\n",
    "Let's see some examples."
   ]
  },
  {
   "cell_type": "code",
   "execution_count": null,
   "metadata": {},
   "outputs": [],
   "source": [
    "# Selecting a single element\n",
    "# Note that 2, 4 corresponds to the third row and fifth column (Sales)\n"
   ]
  },
  {
   "cell_type": "markdown",
   "metadata": {},
   "source": [
    "Note that simply writing ```df[2, 4]``` will throw an error, since pandas gets confused whether the 2 is an integer index (the third row), or is it a row with label = 2? \n",
    "\n",
    "On the other hand, ```df.iloc[2, 4]``` tells pandas explicitly that it should assume **integer indices**."
   ]
  },
  {
   "cell_type": "code",
   "execution_count": null,
   "metadata": {},
   "outputs": [],
   "source": [
    "# Selecting a single row, and all columns\n",
    "# Select the 6th row, with label (and index) = 5\n"
   ]
  },
  {
   "cell_type": "code",
   "execution_count": null,
   "metadata": {},
   "outputs": [],
   "source": [
    "# The above is equivalent to this\n",
    "# The \":\" indicates \"all rows/columns\"\n",
    "\n",
    "\n",
    "# equivalent to market_df.iloc[5, ]"
   ]
  },
  {
   "cell_type": "code",
   "execution_count": null,
   "metadata": {},
   "outputs": [],
   "source": [
    "# Select multiple rows using a list of indices\n"
   ]
  },
  {
   "cell_type": "code",
   "execution_count": null,
   "metadata": {},
   "outputs": [],
   "source": [
    "# Equivalently, you can use:\n",
    "\n",
    "\n",
    "# same as market_df.iloc[[3, 7, 8], ]"
   ]
  },
  {
   "cell_type": "code",
   "execution_count": null,
   "metadata": {},
   "outputs": [],
   "source": [
    "# Selecting rows using a range of integer indices\n",
    "# Notice that 4 is included, 8 is not\n"
   ]
  },
  {
   "cell_type": "code",
   "execution_count": null,
   "metadata": {},
   "outputs": [],
   "source": [
    "# or equivalently\n",
    "\n",
    "\n",
    "# or market_df.iloc[4:8, ]"
   ]
  },
  {
   "cell_type": "code",
   "execution_count": null,
   "metadata": {},
   "outputs": [],
   "source": [
    "# Selecting a single column\n",
    "# Notice that the column index starts at 0, and 2 represents the third column (Cust_id)\n"
   ]
  },
  {
   "cell_type": "code",
   "execution_count": null,
   "metadata": {},
   "outputs": [],
   "source": [
    "# Selecting multiple columns\n"
   ]
  },
  {
   "cell_type": "code",
   "execution_count": null,
   "metadata": {},
   "outputs": [],
   "source": [
    "# Selecting multiple rows and columns\n"
   ]
  },
  {
   "cell_type": "code",
   "execution_count": null,
   "metadata": {},
   "outputs": [],
   "source": [
    "# Using booleans\n",
    "# This selects the rows corresponding to True\n"
   ]
  },
  {
   "cell_type": "markdown",
   "metadata": {},
   "source": [
    "To summarise, ```df.iloc[x, y]``` uses integer indices starting at 0.\n",
    "\n",
    "The other common way of indexing is the **label based** indexing, which uses ```df.loc[]```. \n"
   ]
  },
  {
   "cell_type": "markdown",
   "metadata": {},
   "source": [
    "### Label Based Indexing\n",
    "\n",
    "Pandas provides the ```df.loc[]``` functionality to index dataframes **using labels**. "
   ]
  },
  {
   "cell_type": "code",
   "execution_count": null,
   "metadata": {},
   "outputs": [],
   "source": []
  },
  {
   "cell_type": "markdown",
   "metadata": {},
   "source": [
    "As mentioned in the documentation, the inputs x, y to df.loc[x, y] can be:\n",
    "* A single label, e.g. ```'3'``` or ```'row_index'```\n",
    "* A list or array of labels, e.g. ```['3', '7', '8']```\n",
    "* A range of labels, where ```row_x``` and ```row_y``` **both are included**, i.e. ```'row_x':'row_y'```\n",
    "* A boolean array <br>\n",
    "Let's see some examples."
   ]
  },
  {
   "cell_type": "code",
   "execution_count": null,
   "metadata": {},
   "outputs": [],
   "source": [
    "# Selecting a single element\n",
    "# Select row label = 2 and column label = 'Sales\n"
   ]
  },
  {
   "cell_type": "code",
   "execution_count": null,
   "metadata": {},
   "outputs": [],
   "source": [
    "# Selecting a single row using a single label\n",
    "# df.loc reads 5 as a label, not index\n"
   ]
  },
  {
   "cell_type": "code",
   "execution_count": null,
   "metadata": {},
   "outputs": [],
   "source": [
    "# or equivalently\n",
    "\n",
    "# or market_df.loc[5, ]"
   ]
  },
  {
   "cell_type": "code",
   "execution_count": null,
   "metadata": {},
   "outputs": [],
   "source": [
    "# Select multiple rows using a list of row labels\n"
   ]
  },
  {
   "cell_type": "code",
   "execution_count": null,
   "metadata": {},
   "outputs": [],
   "source": [
    "# Or equivalently\n"
   ]
  },
  {
   "cell_type": "code",
   "execution_count": null,
   "metadata": {},
   "outputs": [],
   "source": [
    "# Selecting rows using a range of labels\n",
    "# Notice that with df.loc, both 4 and 8 are included, unlike with df.iloc\n",
    "# This is an important difference between iloc and loc\n"
   ]
  },
  {
   "cell_type": "code",
   "execution_count": null,
   "metadata": {},
   "outputs": [],
   "source": [
    "# Or equivalently\n"
   ]
  },
  {
   "cell_type": "code",
   "execution_count": null,
   "metadata": {
    "scrolled": true
   },
   "outputs": [],
   "source": [
    "# Or equivalently\n"
   ]
  },
  {
   "cell_type": "code",
   "execution_count": null,
   "metadata": {},
   "outputs": [],
   "source": [
    "# The use of label based indexing will be more clear when we have custom row indices\n",
    "# Let's change the indices to Ord_id\n"
   ]
  },
  {
   "cell_type": "code",
   "execution_count": null,
   "metadata": {},
   "outputs": [],
   "source": [
    "# Select Ord_id = Ord_5406 and some columns\n"
   ]
  },
  {
   "cell_type": "code",
   "execution_count": null,
   "metadata": {},
   "outputs": [],
   "source": [
    "# Select multiple orders using labels, and some columns\n"
   ]
  },
  {
   "cell_type": "code",
   "execution_count": null,
   "metadata": {},
   "outputs": [],
   "source": [
    "# Using booleans\n",
    "# This selects the rows corresponding to True\n"
   ]
  },
  {
   "cell_type": "markdown",
   "metadata": {},
   "source": [
    "To summarise, we discussed two **explicit ways of indexing dataframes** - ```df.iloc[]``` and ```df.loc[]```. Next, let's study how to slice and dice sections of dataframes. "
   ]
  }
 ],
 "metadata": {
  "kernelspec": {
   "display_name": "Python 3 (ipykernel)",
   "language": "python",
   "name": "python3"
  },
  "language_info": {
   "codemirror_mode": {
    "name": "ipython",
    "version": 3
   },
   "file_extension": ".py",
   "mimetype": "text/x-python",
   "name": "python",
   "nbconvert_exporter": "python",
   "pygments_lexer": "ipython3",
   "version": "3.11.5"
  }
 },
 "nbformat": 4,
 "nbformat_minor": 2
}
